{
 "cells": [
  {
   "cell_type": "markdown",
   "id": "686d149b",
   "metadata": {},
   "source": [
    "## 11. Write a python program to find the factorial of a number."
   ]
  },
  {
   "cell_type": "code",
   "execution_count": null,
   "id": "a2af8322",
   "metadata": {},
   "outputs": [],
   "source": [
    "number = int(input('Enter a number to find its factorial: '))\n",
    "factorial = 1\n",
    "\n",
    "if number < 0:\n",
    "    print('Negative numbers donot have factorials')\n",
    "elif number == 0:\n",
    "    print('The factorial of 0 is 1')\n",
    "else:\n",
    "    for i in range(1, number+1):\n",
    "        factorial = factorial * i\n",
    "    print('The factorial of ', number, ' is ', factorial)"
   ]
  },
  {
   "cell_type": "code",
   "execution_count": null,
   "id": "c330f5c9",
   "metadata": {},
   "outputs": [],
   "source": []
  },
  {
   "cell_type": "markdown",
   "id": "294a5418",
   "metadata": {},
   "source": [
    "## 12. Write a python program to find whether a number is prime or composite"
   ]
  },
  {
   "cell_type": "code",
   "execution_count": null,
   "id": "d4bab230",
   "metadata": {},
   "outputs": [],
   "source": [
    "number = int(input('Enter a number to find whether its a prime number or a composite number: '))\n",
    "if number<0:\n",
    "    print('Positive numbers only')\n",
    "elif(number == 0 or number == 1):\n",
    "    print(number,\" is neither prime nor composite\")\n",
    "elif number > 1:\n",
    "    for i in range(2,number):\n",
    "        if(number%i == 0):\n",
    "            print(number,' is a Composite number')\n",
    "            break\n",
    "    else:\n",
    "        print(number, ' is a Prime number')"
   ]
  },
  {
   "cell_type": "code",
   "execution_count": null,
   "id": "3cb2d7a9",
   "metadata": {},
   "outputs": [],
   "source": []
  },
  {
   "cell_type": "markdown",
   "id": "ee69c213",
   "metadata": {},
   "source": [
    "## 13. Write a python program to check whether a given string is palindrome or not."
   ]
  },
  {
   "cell_type": "code",
   "execution_count": null,
   "id": "55f451e7",
   "metadata": {},
   "outputs": [],
   "source": [
    "def space_rem(string):\n",
    "    return string.replace(\" \", \"\")"
   ]
  },
  {
   "cell_type": "code",
   "execution_count": null,
   "id": "e83ae9dc",
   "metadata": {},
   "outputs": [],
   "source": [
    "string = str(input('Enter the string to check whether its a Palindrome or not: '))\n",
    "string = string.lower()\n",
    "string = space_rem(string)\n",
    "\n",
    "rev_str = ''\n",
    "for i in string:\n",
    "    rev_str = i+ rev_str\n",
    "if(rev_str == string):\n",
    "    print(string, 'is a Palindrome')\n",
    "else:\n",
    "    print(string,'is not a Palindrome')"
   ]
  },
  {
   "cell_type": "code",
   "execution_count": null,
   "id": "2674827d",
   "metadata": {},
   "outputs": [],
   "source": []
  },
  {
   "cell_type": "markdown",
   "id": "4cf90bce",
   "metadata": {},
   "source": [
    "## 14. Write a Python program to get the third side of right-angled triangle from two given sides."
   ]
  },
  {
   "cell_type": "code",
   "execution_count": null,
   "id": "4abb31ed",
   "metadata": {},
   "outputs": [],
   "source": [
    "def pythagoras_logic(opposite,adjacent,hypotenuse):\n",
    "        if opposite == str(\"x\"):\n",
    "            return (\"Opposite = \" + str(((hypotenuse**2) - (adjacent**2))**0.5))\n",
    "        elif adjacent == str(\"x\"):\n",
    "            return (\"Adjacent = \" + str(((hypotenuse**2) - (opposite**2))**0.5))\n",
    "        elif hypotenuse == str(\"x\"):\n",
    "            return (\"Hypotenuse = \" + str(((opposite**2) + (adjacent**2))**0.5))"
   ]
  },
  {
   "cell_type": "code",
   "execution_count": null,
   "id": "8963b988",
   "metadata": {},
   "outputs": [],
   "source": [
    "opposite = input('Enter the length of the opposite side: ')\n",
    "adjacent = input('Enter the length of the adjascent side: ')\n",
    "hypotenuse = input('Enter the length of the hypotenuse: ')\n",
    "for i in opposite:\n",
    "    if (str(opposite).isdigit() == True):\n",
    "        opposite = int(opposite)\n",
    "for i in adjacent:\n",
    "    if(str(adjacent).isdigit() == True):\n",
    "        adjacent = int(adjacent)\n",
    "for i in hypotenuse:\n",
    "    if(str(hypotenuse).isdigit() == True):\n",
    "        hypotenuse = int(hypotenuse)\n",
    "list = [opposite, adjacent, hypotenuse]\n",
    "print('The sides of the triangle provide are',list, 'where \"x\" represents the value to be calculated\\n')\n",
    "\n",
    "print(pythagoras_logic(opposite,adjacent,hypotenuse))"
   ]
  },
  {
   "cell_type": "code",
   "execution_count": null,
   "id": "c456ab60",
   "metadata": {},
   "outputs": [],
   "source": []
  },
  {
   "cell_type": "markdown",
   "id": "f1f8664f",
   "metadata": {},
   "source": [
    "## 15. Write a python program to print the frequency of each of the characters present in a given string"
   ]
  },
  {
   "cell_type": "markdown",
   "id": "cdc768b0",
   "metadata": {},
   "source": [
    "### To calculate the number of characters considering uppercase and lowercase characters are different"
   ]
  },
  {
   "cell_type": "code",
   "execution_count": null,
   "id": "8e656e24",
   "metadata": {},
   "outputs": [],
   "source": [
    "from collections import Counter\n",
    "\n",
    "string = input('Enter the string to calculate the frequency of each character: ')\n",
    "\n",
    "num_of_chars = Counter(string)\n",
    "\n",
    "print(\"The count of each character in the given string is \\n\", num_of_chars, 'respectively')"
   ]
  },
  {
   "cell_type": "markdown",
   "id": "48b375bf",
   "metadata": {},
   "source": [
    "### To calculate the number of characters considering uppercase and lowercase characters are same"
   ]
  },
  {
   "cell_type": "code",
   "execution_count": null,
   "id": "c0aa1850",
   "metadata": {},
   "outputs": [],
   "source": [
    "from collections import Counter\n",
    "\n",
    "string = input('Enter the string to calculate the frequency of each character: ')\n",
    "string = string.lower()\n",
    "\n",
    "num_of_chars = Counter(string)\n",
    "print('The string after conversion is ',string)\n",
    "print(\"The count of each character in the given string is \\n\", num_of_chars, 'respectively')"
   ]
  },
  {
   "cell_type": "code",
   "execution_count": null,
   "id": "04ad1b76",
   "metadata": {},
   "outputs": [],
   "source": []
  }
 ],
 "metadata": {
  "kernelspec": {
   "display_name": "Python 3 (ipykernel)",
   "language": "python",
   "name": "python3"
  },
  "language_info": {
   "codemirror_mode": {
    "name": "ipython",
    "version": 3
   },
   "file_extension": ".py",
   "mimetype": "text/x-python",
   "name": "python",
   "nbconvert_exporter": "python",
   "pygments_lexer": "ipython3",
   "version": "3.9.7"
  }
 },
 "nbformat": 4,
 "nbformat_minor": 5
}
